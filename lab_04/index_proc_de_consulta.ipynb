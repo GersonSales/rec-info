{
  "nbformat": 4,
  "nbformat_minor": 0,
  "metadata": {
    "colab": {
      "name": "index_proc_de_consulta",
      "version": "0.3.2",
      "provenance": [],
      "collapsed_sections": []
    },
    "kernelspec": {
      "name": "python3",
      "display_name": "Python 3"
    }
  },
  "cells": [
    {
      "cell_type": "code",
      "metadata": {
        "id": "Wk8SRNPt5-BB",
        "colab_type": "code",
        "outputId": "aaf29144-de15-41c7-ac3a-53d030e7242b",
        "colab": {
          "base_uri": "https://localhost:8080/",
          "height": 85
        }
      },
      "source": [
        "import pandas as pd\n",
        "import seaborn as sns\n",
        "import nltk\n",
        "from nltk.corpus import stopwords\n",
        "from nltk.tokenize import RegexpTokenizer\n",
        "from nltk.stem import RSLPStemmer\n",
        "nltk.download('stopwords')\n",
        "nltk.download('rslp')\n",
        "import matplotlib.pyplot as plt\n",
        "import heapq\n",
        "from google.colab import drive\n",
        "import time\n",
        "\n",
        "# Realizando a leitura do dataset e tokenização\n",
        "\n",
        "db = pd.read_csv(\"https://raw.githubusercontent.com/GersonSales/rec-info/master/lab_04/results.csv\")\n",
        "\n",
        "documents = db['text']\n",
        "stopwords = stopwords.words(\"portuguese\")"
      ],
      "execution_count": 30,
      "outputs": [
        {
          "output_type": "stream",
          "text": [
            "[nltk_data] Downloading package stopwords to /root/nltk_data...\n",
            "[nltk_data]   Package stopwords is already up-to-date!\n",
            "[nltk_data] Downloading package rslp to /root/nltk_data...\n",
            "[nltk_data]   Package rslp is already up-to-date!\n"
          ],
          "name": "stdout"
        }
      ]
    },
    {
      "cell_type": "code",
      "metadata": {
        "id": "DYl6JzIe6NH7",
        "colab_type": "code",
        "colab": {}
      },
      "source": [
        "def buildIndex(documents):\n",
        "  toker = RegexpTokenizer(r'\\b[A-zÀ-ú\\d\\-\\']+')\n",
        "  inverted_list = {}\n",
        "  n = 0\n",
        "\n",
        "  for document in documents:\n",
        "    n += 1\n",
        "    tokens = toker.tokenize(document.lower())\n",
        "    for token in set(tokens):\n",
        "      if (token not in stopwords and len(token) >= 2):\n",
        "        count = (n, tokens.count(token))\n",
        "        if (token not in inverted_list.keys()):\n",
        "          inverted_list[token] = []\n",
        "          inverted_list[token].append(count)\n",
        "        else:\n",
        "          inverted_list[token].append(count)\n",
        "  return inverted_list\n",
        "inverted_index = buildIndex(documents)"
      ],
      "execution_count": 0,
      "outputs": []
    },
    {
      "cell_type": "code",
      "metadata": {
        "id": "VZermTwXmPrP",
        "colab_type": "code",
        "colab": {}
      },
      "source": [
        "inverted_index_df = pd.DataFrame.from_dict(inverted_index, orient=\"index\")\n",
        "inverted_index_df.to_csv('data.csv')\n",
        "!cp data.csv result_folder"
      ],
      "execution_count": 0,
      "outputs": []
    },
    {
      "cell_type": "code",
      "metadata": {
        "id": "ITNozfo5Erx6",
        "colab_type": "code",
        "outputId": "7a08c77b-cf4c-40b1-e8f9-a1a06f7487b6",
        "colab": {
          "base_uri": "https://localhost:8080/",
          "height": 187
        }
      },
      "source": [
        "def documentAtATime(query, inverted_index, k):\n",
        "  inverted_lists = []\n",
        "  r = []\n",
        "  for word in query.split(\" \"):\n",
        "    if word in inverted_index.keys():\n",
        "      inverted_lists.append(inverted_index[word])\n",
        "  for document in range(1, len(documents)+1):\n",
        "    sd = 0\n",
        "    for inverted_list in inverted_lists:\n",
        "      for i in inverted_list:\n",
        "        if (i[0] == document):\n",
        "          sd += i[1]\n",
        "          break\n",
        "    heapq.heappush(r, (sd, document))\n",
        "  return heapq.nlargest(k, r)\n",
        "    \n",
        "documentAtATime(\"presidente\", inverted_index, 10)"
      ],
      "execution_count": 33,
      "outputs": [
        {
          "output_type": "execute_result",
          "data": {
            "text/plain": [
              "[(16, 166),\n",
              " (15, 63),\n",
              " (12, 151),\n",
              " (11, 216),\n",
              " (11, 19),\n",
              " (9, 205),\n",
              " (9, 86),\n",
              " (8, 25),\n",
              " (7, 174),\n",
              " (6, 235)]"
            ]
          },
          "metadata": {
            "tags": []
          },
          "execution_count": 33
        }
      ]
    },
    {
      "cell_type": "code",
      "metadata": {
        "id": "L-848E96iUUK",
        "colab_type": "code",
        "outputId": "9352bb0a-087c-4b71-a99d-c5c9810b3ff3",
        "colab": {
          "base_uri": "https://localhost:8080/",
          "height": 187
        }
      },
      "source": [
        "def termAtATime(query, inverted_index, k):\n",
        "  a = {}\n",
        "  inverted_lists = []\n",
        "  r = []\n",
        "  for word in query.split(\" \"):\n",
        "    if word in inverted_index.keys():\n",
        "      inverted_lists.append(inverted_index[word])\n",
        "  for inverted_list in inverted_lists:\n",
        "    for post in inverted_list:\n",
        "      d = post[0]\n",
        "      freq = post[1]\n",
        "      if (d in a.keys()):\n",
        "        a[d] += freq\n",
        "      else:\n",
        "        a[d] = freq\n",
        "  for (d, ad) in a.items():\n",
        "    sd = ad\n",
        "    heapq.heappush(r, (sd, d))\n",
        "  return heapq.nlargest(k, r)\n",
        "    \n",
        "termAtATime(\"presidente\", inverted_index, 10)"
      ],
      "execution_count": 34,
      "outputs": [
        {
          "output_type": "execute_result",
          "data": {
            "text/plain": [
              "[(16, 166),\n",
              " (15, 63),\n",
              " (12, 151),\n",
              " (11, 216),\n",
              " (11, 19),\n",
              " (9, 205),\n",
              " (9, 86),\n",
              " (8, 25),\n",
              " (7, 174),\n",
              " (6, 235)]"
            ]
          },
          "metadata": {
            "tags": []
          },
          "execution_count": 34
        }
      ]
    },
    {
      "cell_type": "code",
      "metadata": {
        "id": "_6R42qVitMQ4",
        "colab_type": "code",
        "colab": {}
      },
      "source": [
        "queries = [\"lula\", \"bolsonaro\", \"preso\", \"temer\", \"presidente\"]"
      ],
      "execution_count": 0,
      "outputs": []
    },
    {
      "cell_type": "code",
      "metadata": {
        "id": "LoYsEIF8z2yu",
        "colab_type": "code",
        "outputId": "6a7509d4-4913-477c-ce31-cae1e9edd301",
        "colab": {
          "base_uri": "https://localhost:8080/",
          "height": 204
        }
      },
      "source": [
        "results_document = []\n",
        "results_term = []\n",
        "time_results_document = []\n",
        "time_results_term = []\n",
        "k = 10\n",
        "\n",
        "for query in queries:\n",
        "  init_document = time.time()\n",
        "  results_document.append(documentAtATime(query, inverted_index, k))\n",
        "  end_document = time.time()\n",
        "  time_results_document.append(end_document - init_document)\n",
        "  \n",
        "  init_term = time.time()\n",
        "  results_term.append(termAtATime(query, inverted_index, k))\n",
        "  end_term = time.time()\n",
        "  time_results_term.append(end_term - init_term)\n",
        "\n",
        "queries_df = pd.DataFrame()\n",
        "queries_df['query'] = queries\n",
        "queries_df['document_at_a_time'] = results_document\n",
        "queries_df['term_at_a_time'] = results_term\n",
        "queries_df['compare'] = queries_df.document_at_a_time == queries_df.term_at_a_time\n",
        "queries_df['tempo_médio_document_at_a_time'] = time_results_document\n",
        "queries_df['tempo_médio_term_at_a_time'] = time_results_term\n",
        "queries_df"
      ],
      "execution_count": 36,
      "outputs": [
        {
          "output_type": "execute_result",
          "data": {
            "text/html": [
              "<div>\n",
              "<style scoped>\n",
              "    .dataframe tbody tr th:only-of-type {\n",
              "        vertical-align: middle;\n",
              "    }\n",
              "\n",
              "    .dataframe tbody tr th {\n",
              "        vertical-align: top;\n",
              "    }\n",
              "\n",
              "    .dataframe thead th {\n",
              "        text-align: right;\n",
              "    }\n",
              "</style>\n",
              "<table border=\"1\" class=\"dataframe\">\n",
              "  <thead>\n",
              "    <tr style=\"text-align: right;\">\n",
              "      <th></th>\n",
              "      <th>query</th>\n",
              "      <th>document_at_a_time</th>\n",
              "      <th>term_at_a_time</th>\n",
              "      <th>compare</th>\n",
              "      <th>tempo_médio_document_at_a_time</th>\n",
              "      <th>tempo_médio_term_at_a_time</th>\n",
              "    </tr>\n",
              "  </thead>\n",
              "  <tbody>\n",
              "    <tr>\n",
              "      <th>0</th>\n",
              "      <td>lula</td>\n",
              "      <td>[(9, 15), (3, 234), (3, 216), (2, 226), (2, 20...</td>\n",
              "      <td>[(9, 15), (3, 234), (3, 216), (2, 226), (2, 20...</td>\n",
              "      <td>True</td>\n",
              "      <td>0.000576</td>\n",
              "      <td>0.000027</td>\n",
              "    </tr>\n",
              "    <tr>\n",
              "      <th>1</th>\n",
              "      <td>bolsonaro</td>\n",
              "      <td>[(46, 151), (37, 166), (35, 207), (26, 19), (1...</td>\n",
              "      <td>[(46, 151), (37, 166), (35, 207), (26, 19), (1...</td>\n",
              "      <td>True</td>\n",
              "      <td>0.001248</td>\n",
              "      <td>0.000077</td>\n",
              "    </tr>\n",
              "    <tr>\n",
              "      <th>2</th>\n",
              "      <td>preso</td>\n",
              "      <td>[(3, 238), (3, 216), (3, 162), (3, 151), (2, 2...</td>\n",
              "      <td>[(3, 238), (3, 216), (3, 162), (3, 151), (2, 2...</td>\n",
              "      <td>True</td>\n",
              "      <td>0.000621</td>\n",
              "      <td>0.000031</td>\n",
              "    </tr>\n",
              "    <tr>\n",
              "      <th>3</th>\n",
              "      <td>temer</td>\n",
              "      <td>[(10, 204), (9, 162), (7, 202), (6, 206), (3, ...</td>\n",
              "      <td>[(10, 204), (9, 162), (7, 202), (6, 206), (3, ...</td>\n",
              "      <td>True</td>\n",
              "      <td>0.000518</td>\n",
              "      <td>0.000026</td>\n",
              "    </tr>\n",
              "    <tr>\n",
              "      <th>4</th>\n",
              "      <td>presidente</td>\n",
              "      <td>[(16, 166), (15, 63), (12, 151), (11, 216), (1...</td>\n",
              "      <td>[(16, 166), (15, 63), (12, 151), (11, 216), (1...</td>\n",
              "      <td>True</td>\n",
              "      <td>0.001889</td>\n",
              "      <td>0.000128</td>\n",
              "    </tr>\n",
              "  </tbody>\n",
              "</table>\n",
              "</div>"
            ],
            "text/plain": [
              "        query                                 document_at_a_time  \\\n",
              "0        lula  [(9, 15), (3, 234), (3, 216), (2, 226), (2, 20...   \n",
              "1   bolsonaro  [(46, 151), (37, 166), (35, 207), (26, 19), (1...   \n",
              "2       preso  [(3, 238), (3, 216), (3, 162), (3, 151), (2, 2...   \n",
              "3       temer  [(10, 204), (9, 162), (7, 202), (6, 206), (3, ...   \n",
              "4  presidente  [(16, 166), (15, 63), (12, 151), (11, 216), (1...   \n",
              "\n",
              "                                      term_at_a_time  compare  \\\n",
              "0  [(9, 15), (3, 234), (3, 216), (2, 226), (2, 20...     True   \n",
              "1  [(46, 151), (37, 166), (35, 207), (26, 19), (1...     True   \n",
              "2  [(3, 238), (3, 216), (3, 162), (3, 151), (2, 2...     True   \n",
              "3  [(10, 204), (9, 162), (7, 202), (6, 206), (3, ...     True   \n",
              "4  [(16, 166), (15, 63), (12, 151), (11, 216), (1...     True   \n",
              "\n",
              "   tempo_médio_document_at_a_time  tempo_médio_term_at_a_time  \n",
              "0                        0.000576                    0.000027  \n",
              "1                        0.001248                    0.000077  \n",
              "2                        0.000621                    0.000031  \n",
              "3                        0.000518                    0.000026  \n",
              "4                        0.001889                    0.000128  "
            ]
          },
          "metadata": {
            "tags": []
          },
          "execution_count": 36
        }
      ]
    }
  ]
}