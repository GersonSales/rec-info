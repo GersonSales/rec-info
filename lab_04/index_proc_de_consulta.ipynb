{
  "nbformat": 4,
  "nbformat_minor": 0,
  "metadata": {
    "colab": {
      "name": "Indexação e Processamento de Consulta",
      "version": "0.3.2",
      "provenance": [],
      "collapsed_sections": []
    },
    "kernelspec": {
      "name": "python3",
      "display_name": "Python 3"
    }
  },
  "cells": [
    {
      "cell_type": "code",
      "metadata": {
        "id": "Wk8SRNPt5-BB",
        "colab_type": "code",
        "outputId": "efff82da-11bd-4b34-d3d2-fba2009acb65",
        "colab": {
          "base_uri": "https://localhost:8080/",
          "height": 85
        }
      },
      "source": [
        "import pandas as pd\n",
        "import seaborn as sns\n",
        "import nltk\n",
        "from nltk.corpus import stopwords\n",
        "from nltk.tokenize import RegexpTokenizer\n",
        "from nltk.stem import RSLPStemmer\n",
        "nltk.download('stopwords')\n",
        "nltk.download('rslp')\n",
        "import matplotlib.pyplot as plt\n",
        "import heapq\n",
        "from google.colab import drive\n",
        "import time\n",
        "\n",
        "# Realizando a leitura do dataset e tokenização\n",
        "\n",
        "db = pd.read_csv(\"https://raw.githubusercontent.com/GersonSales/rec-info/master/lab_04/results.csv\")\n",
        "\n",
        "documents = db['text']\n",
        "stopwords = stopwords.words(\"portuguese\")"
      ],
      "execution_count": 1,
      "outputs": [
        {
          "output_type": "stream",
          "text": [
            "[nltk_data] Downloading package stopwords to /root/nltk_data...\n",
            "[nltk_data]   Package stopwords is already up-to-date!\n",
            "[nltk_data] Downloading package rslp to /root/nltk_data...\n",
            "[nltk_data]   Package rslp is already up-to-date!\n"
          ],
          "name": "stdout"
        }
      ]
    },
    {
      "cell_type": "code",
      "metadata": {
        "id": "DYl6JzIe6NH7",
        "colab_type": "code",
        "colab": {}
      },
      "source": [
        "def buildIndex(documents):\n",
        "  toker = RegexpTokenizer(r'\\b[A-zÀ-ú\\d\\-\\']+')\n",
        "  inverted_list = {}\n",
        "  n = 0\n",
        "\n",
        "  for document in documents:\n",
        "    n += 1\n",
        "    tokens = toker.tokenize(document.lower())\n",
        "    for token in set(tokens):\n",
        "      if (token not in stopwords and len(token) >= 2):\n",
        "        count = (n, tokens.count(token))\n",
        "        if (token not in inverted_list.keys()):\n",
        "          inverted_list[token] = []\n",
        "          inverted_list[token].append(count)\n",
        "        else:\n",
        "          inverted_list[token].append(count)\n",
        "  return inverted_list\n",
        "inverted_index = buildIndex(documents)"
      ],
      "execution_count": 0,
      "outputs": []
    },
    {
      "cell_type": "code",
      "metadata": {
        "id": "VZermTwXmPrP",
        "colab_type": "code",
        "colab": {
          "base_uri": "https://localhost:8080/",
          "height": 34
        },
        "outputId": "2e20716e-5bed-433f-a31b-1385fa777958"
      },
      "source": [
        "inverted_index_df = pd.DataFrame.from_dict(inverted_index, orient=\"index\")\n",
        "inverted_index_df.to_csv('data.csv')\n",
        "!cp data.csv drive/My\\ Drive/"
      ],
      "execution_count": 3,
      "outputs": [
        {
          "output_type": "stream",
          "text": [
            "cp: cannot create regular file 'drive/My Drive/': No such file or directory\n"
          ],
          "name": "stdout"
        }
      ]
    },
    {
      "cell_type": "code",
      "metadata": {
        "id": "ITNozfo5Erx6",
        "colab_type": "code",
        "outputId": "7c32f139-933f-4e70-f1eb-c2365a880691",
        "colab": {
          "base_uri": "https://localhost:8080/",
          "height": 187
        }
      },
      "source": [
        "def documentAtATime(query, inverted_index, k):\n",
        "  inverted_lists = []\n",
        "  r = []\n",
        "  for word in query.split(\" \"):\n",
        "    if word in inverted_index.keys():\n",
        "      inverted_lists.append(inverted_index[word])\n",
        "  for document in range(1, len(documents)+1):\n",
        "    sd = 0\n",
        "    for inverted_list in inverted_lists:\n",
        "      for i in inverted_list:\n",
        "        if (i[0] == document):\n",
        "          sd += i[1]\n",
        "          break\n",
        "    heapq.heappush(r, (sd, document))\n",
        "  return heapq.nlargest(k, r)\n",
        "    \n",
        "documentAtATime(\"empresa\", inverted_index, 10)"
      ],
      "execution_count": 4,
      "outputs": [
        {
          "output_type": "execute_result",
          "data": {
            "text/plain": [
              "[(10, 142),\n",
              " (10, 40),\n",
              " (9, 143),\n",
              " (8, 22),\n",
              " (7, 134),\n",
              " (7, 21),\n",
              " (6, 30),\n",
              " (5, 136),\n",
              " (4, 126),\n",
              " (3, 243)]"
            ]
          },
          "metadata": {
            "tags": []
          },
          "execution_count": 4
        }
      ]
    },
    {
      "cell_type": "code",
      "metadata": {
        "id": "L-848E96iUUK",
        "colab_type": "code",
        "outputId": "f5c2014a-a9aa-4096-aeb6-fdbbd8e49859",
        "colab": {
          "base_uri": "https://localhost:8080/",
          "height": 187
        }
      },
      "source": [
        "def termAtATime(query, inverted_index, k):\n",
        "  a = {}\n",
        "  inverted_lists = []\n",
        "  r = []\n",
        "  for word in query.split(\" \"):\n",
        "    if word in inverted_index.keys():\n",
        "      inverted_lists.append(inverted_index[word])\n",
        "  for inverted_list in inverted_lists:\n",
        "    for post in inverted_list:\n",
        "      d = post[0]\n",
        "      freq = post[1]\n",
        "      if (d in a.keys()):\n",
        "        a[d] += freq\n",
        "      else:\n",
        "        a[d] = freq\n",
        "  for (d, ad) in a.items():\n",
        "    sd = ad\n",
        "    heapq.heappush(r, (sd, d))\n",
        "  return heapq.nlargest(k, r)\n",
        "    \n",
        "termAtATime(\"empresa\", inverted_index, 10)"
      ],
      "execution_count": 5,
      "outputs": [
        {
          "output_type": "execute_result",
          "data": {
            "text/plain": [
              "[(10, 142),\n",
              " (10, 40),\n",
              " (9, 143),\n",
              " (8, 22),\n",
              " (7, 134),\n",
              " (7, 21),\n",
              " (6, 30),\n",
              " (5, 136),\n",
              " (4, 126),\n",
              " (3, 243)]"
            ]
          },
          "metadata": {
            "tags": []
          },
          "execution_count": 5
        }
      ]
    },
    {
      "cell_type": "code",
      "metadata": {
        "id": "_6R42qVitMQ4",
        "colab_type": "code",
        "colab": {}
      },
      "source": [
        "queries = [\"política\", \"presidente\", \"educação\", \"ministério\", \"empresa\"]"
      ],
      "execution_count": 0,
      "outputs": []
    },
    {
      "cell_type": "code",
      "metadata": {
        "id": "LoYsEIF8z2yu",
        "colab_type": "code",
        "outputId": "8182aeab-3c3a-46c9-f322-b409caf339d5",
        "colab": {
          "base_uri": "https://localhost:8080/",
          "height": 204
        }
      },
      "source": [
        "results_document = []\n",
        "results_term = []\n",
        "time_results_document = []\n",
        "time_results_term = []\n",
        "k = 10\n",
        "\n",
        "for query in queries:\n",
        "  init_document = time.time()\n",
        "  results_document.append(documentAtATime(query, inverted_index, k))\n",
        "  end_document = time.time()\n",
        "  time_results_document.append(end_document - init_document)\n",
        "  \n",
        "  init_term = time.time()\n",
        "  results_term.append(termAtATime(query, inverted_index, k))\n",
        "  end_term = time.time()\n",
        "  time_results_term.append(end_term - init_term)\n",
        "\n",
        "queries_df = pd.DataFrame()\n",
        "queries_df['query'] = queries\n",
        "queries_df['document_at_a_time'] = results_document\n",
        "queries_df['term_at_a_time'] = results_term\n",
        "queries_df['compare'] = queries_df.document_at_a_time == queries_df.term_at_a_time\n",
        "queries_df['tempo_médio_document_at_a_time'] = time_results_document\n",
        "queries_df['tempo_médio_term_at_a_time'] = time_results_term\n",
        "queries_df"
      ],
      "execution_count": 7,
      "outputs": [
        {
          "output_type": "execute_result",
          "data": {
            "text/html": [
              "<div>\n",
              "<style scoped>\n",
              "    .dataframe tbody tr th:only-of-type {\n",
              "        vertical-align: middle;\n",
              "    }\n",
              "\n",
              "    .dataframe tbody tr th {\n",
              "        vertical-align: top;\n",
              "    }\n",
              "\n",
              "    .dataframe thead th {\n",
              "        text-align: right;\n",
              "    }\n",
              "</style>\n",
              "<table border=\"1\" class=\"dataframe\">\n",
              "  <thead>\n",
              "    <tr style=\"text-align: right;\">\n",
              "      <th></th>\n",
              "      <th>query</th>\n",
              "      <th>document_at_a_time</th>\n",
              "      <th>term_at_a_time</th>\n",
              "      <th>compare</th>\n",
              "      <th>tempo_médio_document_at_a_time</th>\n",
              "      <th>tempo_médio_term_at_a_time</th>\n",
              "    </tr>\n",
              "  </thead>\n",
              "  <tbody>\n",
              "    <tr>\n",
              "      <th>0</th>\n",
              "      <td>política</td>\n",
              "      <td>[(9, 69), (7, 235), (7, 166), (6, 204), (5, 17...</td>\n",
              "      <td>[(9, 69), (7, 235), (7, 166), (6, 204), (5, 17...</td>\n",
              "      <td>True</td>\n",
              "      <td>0.001491</td>\n",
              "      <td>0.000104</td>\n",
              "    </tr>\n",
              "    <tr>\n",
              "      <th>1</th>\n",
              "      <td>presidente</td>\n",
              "      <td>[(16, 166), (15, 63), (12, 151), (11, 216), (1...</td>\n",
              "      <td>[(16, 166), (15, 63), (12, 151), (11, 216), (1...</td>\n",
              "      <td>True</td>\n",
              "      <td>0.001842</td>\n",
              "      <td>0.000228</td>\n",
              "    </tr>\n",
              "    <tr>\n",
              "      <th>2</th>\n",
              "      <td>educação</td>\n",
              "      <td>[(22, 221), (11, 222), (7, 130), (6, 239), (5,...</td>\n",
              "      <td>[(22, 221), (11, 222), (7, 130), (6, 239), (5,...</td>\n",
              "      <td>True</td>\n",
              "      <td>0.000669</td>\n",
              "      <td>0.000066</td>\n",
              "    </tr>\n",
              "    <tr>\n",
              "      <th>3</th>\n",
              "      <td>ministério</td>\n",
              "      <td>[(8, 221), (7, 124), (7, 115), (4, 203), (3, 2...</td>\n",
              "      <td>[(8, 221), (7, 124), (7, 115), (4, 203), (3, 2...</td>\n",
              "      <td>True</td>\n",
              "      <td>0.000840</td>\n",
              "      <td>0.000057</td>\n",
              "    </tr>\n",
              "    <tr>\n",
              "      <th>4</th>\n",
              "      <td>empresa</td>\n",
              "      <td>[(10, 142), (10, 40), (9, 143), (8, 22), (7, 1...</td>\n",
              "      <td>[(10, 142), (10, 40), (9, 143), (8, 22), (7, 1...</td>\n",
              "      <td>True</td>\n",
              "      <td>0.000874</td>\n",
              "      <td>0.000070</td>\n",
              "    </tr>\n",
              "  </tbody>\n",
              "</table>\n",
              "</div>"
            ],
            "text/plain": [
              "        query                                 document_at_a_time  \\\n",
              "0    política  [(9, 69), (7, 235), (7, 166), (6, 204), (5, 17...   \n",
              "1  presidente  [(16, 166), (15, 63), (12, 151), (11, 216), (1...   \n",
              "2    educação  [(22, 221), (11, 222), (7, 130), (6, 239), (5,...   \n",
              "3  ministério  [(8, 221), (7, 124), (7, 115), (4, 203), (3, 2...   \n",
              "4     empresa  [(10, 142), (10, 40), (9, 143), (8, 22), (7, 1...   \n",
              "\n",
              "                                      term_at_a_time  compare  \\\n",
              "0  [(9, 69), (7, 235), (7, 166), (6, 204), (5, 17...     True   \n",
              "1  [(16, 166), (15, 63), (12, 151), (11, 216), (1...     True   \n",
              "2  [(22, 221), (11, 222), (7, 130), (6, 239), (5,...     True   \n",
              "3  [(8, 221), (7, 124), (7, 115), (4, 203), (3, 2...     True   \n",
              "4  [(10, 142), (10, 40), (9, 143), (8, 22), (7, 1...     True   \n",
              "\n",
              "   tempo_médio_document_at_a_time  tempo_médio_term_at_a_time  \n",
              "0                        0.001491                    0.000104  \n",
              "1                        0.001842                    0.000228  \n",
              "2                        0.000669                    0.000066  \n",
              "3                        0.000840                    0.000057  \n",
              "4                        0.000874                    0.000070  "
            ]
          },
          "metadata": {
            "tags": []
          },
          "execution_count": 7
        }
      ]
    }
  ]
}