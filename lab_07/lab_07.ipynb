{
  "nbformat": 4,
  "nbformat_minor": 0,
  "metadata": {
    "colab": {
      "name": "lab_07.ipynb",
      "version": "0.3.2",
      "provenance": []
    },
    "kernelspec": {
      "name": "python3",
      "display_name": "Python 3"
    }
  },
  "cells": [
    {
      "cell_type": "code",
      "metadata": {
        "id": "9BtXxxAYC5el",
        "colab_type": "code",
        "outputId": "6004c8a6-28fd-4143-db0f-061ee22e8d04",
        "colab": {
          "base_uri": "https://localhost:8080/",
          "height": 51
        }
      },
      "source": [
        "import pandas as pd\n",
        "import numpy as np\n",
        "import nltk\n",
        "import re\n",
        "import collections\n",
        "import bisect\n",
        "from nltk.tokenize import RegexpTokenizer\n",
        "\n",
        "nltk.download('stopwords')\n",
        "result = pd.read_csv('https://raw.githubusercontent.com/GersonSales/rec-info/master/lab_07/results.csv')\n",
        "                                           \n",
        "json = pd.read_json('https://raw.githubusercontent.com/GersonSales/rec-info/master/lab_07/results_b.json')\n",
        "feedback = {json['query'][i]:json['docs'][i] for i in range(10)}\n"
      ],
      "execution_count": 1,
      "outputs": [
        {
          "output_type": "stream",
          "text": [
            "[nltk_data] Downloading package stopwords to /root/nltk_data...\n",
            "[nltk_data]   Package stopwords is already up-to-date!\n"
          ],
          "name": "stdout"
        }
      ]
    },
    {
      "cell_type": "code",
      "metadata": {
        "id": "iogeZ0rExmwd",
        "colab_type": "code",
        "colab": {}
      },
      "source": [
        "tknz = RegexpTokenizer(r'([A-Za-zÁáÉéÍíÓóÚúÃãÕõÇçÂâÊê]{3,27})')\n",
        "stopwords = nltk.corpus.stopwords.words('portuguese') \n",
        "indexes = {}\n",
        "M = result.text.count()\n",
        "\n",
        "for i in range(len(result)):\n",
        "  text = result.text[i]\n",
        "  words = [word for word in tknz.tokenize(text.lower())\n",
        "           if not bool(re.search(r'\\d', word))\n",
        "           and word not in stopwords and len(word) >= 3]  \n",
        "  for t in words:\n",
        "    if t not in indexes.keys():\n",
        "      indexes[t] = []\n",
        "    indexes[t].append(i)\n",
        "    \n",
        "for elem in indexes.items():\n",
        "  d = dict(collections.Counter(elem[1]))\n",
        "  indexes[elem[0]] = list(d.items())\n",
        "  \n",
        "for word in indexes:\n",
        "  k = len(indexes[word])\n",
        "  IDF = round(np.log((M+1)/k),2)\n",
        "  indexes[word].append(IDF)"
      ],
      "execution_count": 0,
      "outputs": []
    },
    {
      "cell_type": "markdown",
      "metadata": {
        "id": "xzOvBY5xmO8R",
        "colab_type": "text"
      },
      "source": [
        "### 1_Escolha um documento dentre aqueles da base do aluno Bernardi e crie uma consulta que você acha que tem boas chances de recuperar este documento. Em seguida, avalie os resultados de tal consulta usando a métrica de avaliação Reciprocal Rank"
      ]
    },
    {
      "cell_type": "markdown",
      "metadata": {
        "id": "WPSfrKwYxu-W",
        "colab_type": "text"
      },
      "source": [
        "### Reforma da Previdência"
      ]
    },
    {
      "cell_type": "code",
      "metadata": {
        "id": "c_bB8N7xz6Lc",
        "colab_type": "code",
        "outputId": "1267347d-1f90-4cac-f2b9-06821642fd74",
        "colab": {
          "base_uri": "https://localhost:8080/",
          "height": 34
        }
      },
      "source": [
        "ndoc = 230\n",
        "\n",
        "document = result.loc[ndoc]\n",
        "query = 'câmara'\n",
        "\n",
        "document.title"
      ],
      "execution_count": 3,
      "outputs": [
        {
          "output_type": "execute_result",
          "data": {
            "text/plain": [
              "'Paulo Guedes defende sua reforma da Previdência em audiência na Câmara'"
            ]
          },
          "metadata": {
            "tags": []
          },
          "execution_count": 3
        }
      ]
    },
    {
      "cell_type": "code",
      "metadata": {
        "id": "qRt3X6zgyzlo",
        "colab_type": "code",
        "colab": {}
      },
      "source": [
        "row = result.loc[result.url == document.url]\n"
      ],
      "execution_count": 0,
      "outputs": []
    },
    {
      "cell_type": "code",
      "metadata": {
        "id": "xynuk2cNy2sF",
        "colab_type": "code",
        "colab": {}
      },
      "source": [
        "def binary_vsm(query, document):\n",
        "  score = 0\n",
        "  query_tokens = query.split()\n",
        "  doc_tokens = document.split()\n",
        "  \n",
        "  for token in query_tokens:\n",
        "    score += (token in doc_tokens)\n",
        "    \n",
        "  return score\n",
        "\n",
        "def tf_vsm(query, document):\n",
        "  score = 0\n",
        "  doc_tokens = document.split()\n",
        "  query_tokens = query.split()\n",
        "  \n",
        "  for word in query_tokens:\n",
        "    score += doc_tokens.count(word)\n",
        "  \n",
        "  return score\n",
        "\n",
        "\n",
        "def bm25_vsm(query, document, k):\n",
        "  score = 0\n",
        "  doc_tokens = document.split()\n",
        "  query_tokens = query.split()\n",
        "  \n",
        "  words = [word for word in query_tokens if word in doc_tokens]\n",
        "    \n",
        "  for word in words:\n",
        "    cwd = doc_tokens.count(word)\n",
        "    dfw = 0\n",
        "    if word in indexes:\n",
        "      dfw = len(indexes[word][:-1])\n",
        "    score += (((k+1) * cwd) / (cwd + k)) * np.log10(((M+1) / dfw)) if dfw != 0 else 0\n",
        "  \n",
        "  return round(score,2)\n",
        "\n",
        "def tfidf_vsm(query, document):\n",
        "  score = 0\n",
        "  doc_tokens = document.split()\n",
        "  query_tokens = query.split()\n",
        "  \n",
        "  for word in query_tokens:\n",
        "    cwd = doc_tokens.count(word)\n",
        "    if word in indexes:\n",
        "      score += cwd * indexes[word][-1]\n",
        "  \n",
        "  return round(score,2)"
      ],
      "execution_count": 0,
      "outputs": []
    },
    {
      "cell_type": "code",
      "metadata": {
        "id": "muBGunsOy-H0",
        "colab_type": "code",
        "colab": {}
      },
      "source": [
        "\n",
        "def create_topk_models(query,k):\n",
        "  db = []\n",
        "  dtf = []\n",
        "  dtfidf = []\n",
        "  dbm25 = []\n",
        "  for i in range(len(result)):\n",
        "    doc = result.text[i].lower()\n",
        "    bisect.insort(db, (binary_vsm(query, doc), i))\n",
        "    bisect.insort(dtf, (tf_vsm(query,doc), i))\n",
        "    bisect.insort(dtfidf, (tfidf_vsm(query,doc), i))\n",
        "    bisect.insort(dbm25, (bm25_vsm(query,doc,20), i))\n",
        "  \n",
        "  db.reverse()\n",
        "  dtf.reverse()\n",
        "  dtfidf.reverse()\n",
        "  dbm25.reverse()\n",
        "  \n",
        "  return db[:k], dtf[:k], dtfidf[:k], dbm25[:k]"
      ],
      "execution_count": 0,
      "outputs": []
    },
    {
      "cell_type": "code",
      "metadata": {
        "id": "3Gp1Mxq2y__r",
        "colab_type": "code",
        "colab": {}
      },
      "source": [
        "top_binary, top_tf, top_tfidf, top_bm25 = create_topk_models(query,10)\n",
        "idoc = [doc for score,doc in top_binary]\n"
      ],
      "execution_count": 0,
      "outputs": []
    },
    {
      "cell_type": "code",
      "metadata": {
        "id": "JaVWyPcfzEwR",
        "colab_type": "code",
        "outputId": "15d330fc-e939-43a5-cd60-37a2ed52a909",
        "colab": {
          "base_uri": "https://localhost:8080/",
          "height": 359
        }
      },
      "source": [
        "query_df = pd.DataFrame()\n",
        "\n",
        "query_df['Binary'] = top_binary\n",
        "query_df['TF'] = top_tf\n",
        "query_df['TF-IDF'] = top_tfidf\n",
        "query_df['BM25'] = top_bm25\n",
        "\n",
        "query_df.index+=1\n",
        "query_df"
      ],
      "execution_count": 8,
      "outputs": [
        {
          "output_type": "execute_result",
          "data": {
            "text/html": [
              "<div>\n",
              "<style scoped>\n",
              "    .dataframe tbody tr th:only-of-type {\n",
              "        vertical-align: middle;\n",
              "    }\n",
              "\n",
              "    .dataframe tbody tr th {\n",
              "        vertical-align: top;\n",
              "    }\n",
              "\n",
              "    .dataframe thead th {\n",
              "        text-align: right;\n",
              "    }\n",
              "</style>\n",
              "<table border=\"1\" class=\"dataframe\">\n",
              "  <thead>\n",
              "    <tr style=\"text-align: right;\">\n",
              "      <th></th>\n",
              "      <th>Binary</th>\n",
              "      <th>TF</th>\n",
              "      <th>TF-IDF</th>\n",
              "      <th>BM25</th>\n",
              "    </tr>\n",
              "  </thead>\n",
              "  <tbody>\n",
              "    <tr>\n",
              "      <th>1</th>\n",
              "      <td>(1, 241)</td>\n",
              "      <td>(12, 206)</td>\n",
              "      <td>(23.64, 206)</td>\n",
              "      <td>(6.72, 206)</td>\n",
              "    </tr>\n",
              "    <tr>\n",
              "      <th>2</th>\n",
              "      <td>(1, 239)</td>\n",
              "      <td>(7, 208)</td>\n",
              "      <td>(13.79, 208)</td>\n",
              "      <td>(4.65, 208)</td>\n",
              "    </tr>\n",
              "    <tr>\n",
              "      <th>3</th>\n",
              "      <td>(1, 234)</td>\n",
              "      <td>(4, 230)</td>\n",
              "      <td>(7.88, 230)</td>\n",
              "      <td>(2.99, 230)</td>\n",
              "    </tr>\n",
              "    <tr>\n",
              "      <th>4</th>\n",
              "      <td>(1, 230)</td>\n",
              "      <td>(4, 204)</td>\n",
              "      <td>(7.88, 204)</td>\n",
              "      <td>(2.99, 204)</td>\n",
              "    </tr>\n",
              "    <tr>\n",
              "      <th>5</th>\n",
              "      <td>(1, 228)</td>\n",
              "      <td>(4, 167)</td>\n",
              "      <td>(7.88, 167)</td>\n",
              "      <td>(2.99, 167)</td>\n",
              "    </tr>\n",
              "    <tr>\n",
              "      <th>6</th>\n",
              "      <td>(1, 226)</td>\n",
              "      <td>(4, 80)</td>\n",
              "      <td>(7.88, 80)</td>\n",
              "      <td>(2.99, 80)</td>\n",
              "    </tr>\n",
              "    <tr>\n",
              "      <th>7</th>\n",
              "      <td>(1, 224)</td>\n",
              "      <td>(3, 234)</td>\n",
              "      <td>(5.91, 234)</td>\n",
              "      <td>(2.34, 234)</td>\n",
              "    </tr>\n",
              "    <tr>\n",
              "      <th>8</th>\n",
              "      <td>(1, 221)</td>\n",
              "      <td>(3, 224)</td>\n",
              "      <td>(5.91, 224)</td>\n",
              "      <td>(2.34, 224)</td>\n",
              "    </tr>\n",
              "    <tr>\n",
              "      <th>9</th>\n",
              "      <td>(1, 219)</td>\n",
              "      <td>(3, 214)</td>\n",
              "      <td>(5.91, 214)</td>\n",
              "      <td>(2.34, 214)</td>\n",
              "    </tr>\n",
              "    <tr>\n",
              "      <th>10</th>\n",
              "      <td>(1, 217)</td>\n",
              "      <td>(3, 81)</td>\n",
              "      <td>(5.91, 81)</td>\n",
              "      <td>(2.34, 81)</td>\n",
              "    </tr>\n",
              "  </tbody>\n",
              "</table>\n",
              "</div>"
            ],
            "text/plain": [
              "      Binary         TF        TF-IDF         BM25\n",
              "1   (1, 241)  (12, 206)  (23.64, 206)  (6.72, 206)\n",
              "2   (1, 239)   (7, 208)  (13.79, 208)  (4.65, 208)\n",
              "3   (1, 234)   (4, 230)   (7.88, 230)  (2.99, 230)\n",
              "4   (1, 230)   (4, 204)   (7.88, 204)  (2.99, 204)\n",
              "5   (1, 228)   (4, 167)   (7.88, 167)  (2.99, 167)\n",
              "6   (1, 226)    (4, 80)    (7.88, 80)   (2.99, 80)\n",
              "7   (1, 224)   (3, 234)   (5.91, 234)  (2.34, 234)\n",
              "8   (1, 221)   (3, 224)   (5.91, 224)  (2.34, 224)\n",
              "9   (1, 219)   (3, 214)   (5.91, 214)  (2.34, 214)\n",
              "10  (1, 217)    (3, 81)    (5.91, 81)   (2.34, 81)"
            ]
          },
          "metadata": {
            "tags": []
          },
          "execution_count": 8
        }
      ]
    },
    {
      "cell_type": "markdown",
      "metadata": {
        "id": "dUIuLMgfzKtk",
        "colab_type": "text"
      },
      "source": [
        "### Reciprocal Rank"
      ]
    },
    {
      "cell_type": "code",
      "metadata": {
        "id": "z5iQ4fKKzM6w",
        "colab_type": "code",
        "outputId": "29146e26-f604-4ffc-f3b9-8c6f84fc71d4",
        "colab": {
          "base_uri": "https://localhost:8080/",
          "height": 80
        }
      },
      "source": [
        "def reciprocal_rank(tuples, docId):\n",
        "  n = 1.0;\n",
        "  for r,doc in tuples:\n",
        "    if doc == docId:\n",
        "      return  [round(1 / n, 2)]\n",
        "    else:\n",
        "      n += 1\n",
        "\n",
        "rank_df = pd.DataFrame()\n",
        "rank_df['Binary'] = reciprocal_rank(query_df['Binary'], ndoc)\n",
        "rank_df['TF'] = reciprocal_rank(query_df['TF'], ndoc)\n",
        "rank_df['TF-IDF'] = reciprocal_rank(query_df['TF-IDF'], ndoc)\n",
        "rank_df['BM25'] = reciprocal_rank(query_df['BM25'], ndoc)\n",
        "rank_df.index+=1\n",
        "rank_df"
      ],
      "execution_count": 9,
      "outputs": [
        {
          "output_type": "execute_result",
          "data": {
            "text/html": [
              "<div>\n",
              "<style scoped>\n",
              "    .dataframe tbody tr th:only-of-type {\n",
              "        vertical-align: middle;\n",
              "    }\n",
              "\n",
              "    .dataframe tbody tr th {\n",
              "        vertical-align: top;\n",
              "    }\n",
              "\n",
              "    .dataframe thead th {\n",
              "        text-align: right;\n",
              "    }\n",
              "</style>\n",
              "<table border=\"1\" class=\"dataframe\">\n",
              "  <thead>\n",
              "    <tr style=\"text-align: right;\">\n",
              "      <th></th>\n",
              "      <th>Binary</th>\n",
              "      <th>TF</th>\n",
              "      <th>TF-IDF</th>\n",
              "      <th>BM25</th>\n",
              "    </tr>\n",
              "  </thead>\n",
              "  <tbody>\n",
              "    <tr>\n",
              "      <th>1</th>\n",
              "      <td>0.25</td>\n",
              "      <td>0.33</td>\n",
              "      <td>0.33</td>\n",
              "      <td>0.33</td>\n",
              "    </tr>\n",
              "  </tbody>\n",
              "</table>\n",
              "</div>"
            ],
            "text/plain": [
              "   Binary    TF  TF-IDF  BM25\n",
              "1    0.25  0.33    0.33  0.33"
            ]
          },
          "metadata": {
            "tags": []
          },
          "execution_count": 9
        }
      ]
    },
    {
      "cell_type": "markdown",
      "metadata": {
        "id": "67V0Yrl4mTrv",
        "colab_type": "text"
      },
      "source": [
        "### 2_ A partir do gabarito fornecido em OBS1, calcule o MAP para cada algoritmo abaixo e aponte qual obteve o melhor resultado. Para os cálculos do MAP, considere que um documento é relevante para uma dada consulta se este documento estiver entre os documentos do gabarito para essa consulta, senão ele deve ser considerado irrelevante. "
      ]
    },
    {
      "cell_type": "code",
      "metadata": {
        "id": "jYje1w1JzQTi",
        "colab_type": "code",
        "colab": {}
      },
      "source": [
        "def doc_indexes(model):\n",
        "  return [doc for score,doc in model]\n",
        "\n",
        "def intersection(a,b):\n",
        "  return [elem for elem in a if elem in b]\n",
        "\n",
        "def calc_AP(query):\n",
        "  revelant_docs = []\n",
        "\n",
        "  for doc_info in feedback[query]:\n",
        "    row = result.loc[result.url == doc_info['URL']]\n",
        "    revelant_docs.append(row.index[0])\n",
        "  \n",
        "  binary, tf, tfidf, bm25 = create_topk_models(query, 10)\n",
        "  binary = doc_indexes(binary)\n",
        "  tf = doc_indexes(tf)\n",
        "  tfidf = doc_indexes(tfidf)\n",
        "  bm25 = doc_indexes(bm25)\n",
        "  \n",
        "  ap_binary = len(intersection(binary, revelant_docs)) / len(binary)\n",
        "  ap_tf = len(intersection(tf, revelant_docs)) / len(tf)\n",
        "  ap_tfidf = len(intersection(tfidf, revelant_docs)) / len(tfidf)\n",
        "  ap_bm25 = len(intersection(bm25, revelant_docs)) / len(bm25)\n",
        "  \n",
        "  return ap_binary, ap_tf, ap_tfidf, ap_bm25\n",
        "  \n",
        "def calc_MAP(queries):\n",
        "  sum_binary = 0\n",
        "  sum_tf = 0\n",
        "  sum_tfidf = 0\n",
        "  sum_bm25 = 0\n",
        "  \n",
        "  for query in queries:\n",
        "    ap_binary, ap_tf, ap_tfidf, ap_bm25 = calc_AP(query)\n",
        "    sum_binary += ap_binary\n",
        "    sum_tf += ap_tf\n",
        "    sum_tfidf += ap_tfidf\n",
        "    sum_bm25 += ap_bm25\n",
        "  \n",
        "  map_binary = round(sum_binary / len(queries),2)\n",
        "  map_tf = round(sum_tf / len(queries),2)\n",
        "  map_tfidf = round(sum_tfidf / len(queries),2)\n",
        "  map_bm25 = round(sum_bm25 / len(queries),2)\n",
        "  \n",
        "  return map_binary, map_tf, map_tfidf, map_bm25"
      ],
      "execution_count": 0,
      "outputs": []
    },
    {
      "cell_type": "code",
      "metadata": {
        "id": "uh6uTLmhzW5F",
        "colab_type": "code",
        "colab": {}
      },
      "source": [
        "map_binary, map_tf, map_tfidf, map_bm25 = calc_MAP(feedback.keys())\n"
      ],
      "execution_count": 0,
      "outputs": []
    },
    {
      "cell_type": "code",
      "metadata": {
        "id": "vKG7zMt9zYtq",
        "colab_type": "code",
        "outputId": "ab136bb3-b4d0-49ef-c6dd-0f3fcb130b78",
        "colab": {
          "base_uri": "https://localhost:8080/",
          "height": 34
        }
      },
      "source": [
        "map_binary\n"
      ],
      "execution_count": 12,
      "outputs": [
        {
          "output_type": "execute_result",
          "data": {
            "text/plain": [
              "0.08"
            ]
          },
          "metadata": {
            "tags": []
          },
          "execution_count": 12
        }
      ]
    },
    {
      "cell_type": "code",
      "metadata": {
        "id": "dJ8phAt8zZK3",
        "colab_type": "code",
        "outputId": "2e1e4b04-4f6c-40b9-fcbb-8d7660209ec7",
        "colab": {
          "base_uri": "https://localhost:8080/",
          "height": 34
        }
      },
      "source": [
        "map_tf\n"
      ],
      "execution_count": 13,
      "outputs": [
        {
          "output_type": "execute_result",
          "data": {
            "text/plain": [
              "0.05"
            ]
          },
          "metadata": {
            "tags": []
          },
          "execution_count": 13
        }
      ]
    },
    {
      "cell_type": "code",
      "metadata": {
        "id": "8O2LhcZOzakJ",
        "colab_type": "code",
        "outputId": "40772d1c-3808-4b96-fa79-3c3e86e03ab3",
        "colab": {
          "base_uri": "https://localhost:8080/",
          "height": 34
        }
      },
      "source": [
        "map_tfidf"
      ],
      "execution_count": 14,
      "outputs": [
        {
          "output_type": "execute_result",
          "data": {
            "text/plain": [
              "0.13"
            ]
          },
          "metadata": {
            "tags": []
          },
          "execution_count": 14
        }
      ]
    },
    {
      "cell_type": "code",
      "metadata": {
        "id": "Mxs-h2zJzbuX",
        "colab_type": "code",
        "outputId": "4ec649d9-8ce5-4849-9229-3c4905328017",
        "colab": {
          "base_uri": "https://localhost:8080/",
          "height": 34
        }
      },
      "source": [
        "map_bm25"
      ],
      "execution_count": 15,
      "outputs": [
        {
          "output_type": "execute_result",
          "data": {
            "text/plain": [
              "0.14"
            ]
          },
          "metadata": {
            "tags": []
          },
          "execution_count": 15
        }
      ]
    },
    {
      "cell_type": "markdown",
      "metadata": {
        "id": "D1ObbicDm0Kr",
        "colab_type": "text"
      },
      "source": [
        "### 3_Repita Q2 usando a avaliação multi-nível DCG. Utilize o campo \"level\" do gabarito para o cálculo do DCG e do idealDCG. "
      ]
    },
    {
      "cell_type": "code",
      "metadata": {
        "id": "F8XiF-Y9wM-7",
        "colab_type": "code",
        "colab": {}
      },
      "source": [
        ""
      ],
      "execution_count": 0,
      "outputs": []
    }
  ]
}